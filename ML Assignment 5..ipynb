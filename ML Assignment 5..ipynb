{
 "cells": [
  {
   "cell_type": "markdown",
   "id": "3e3a3329",
   "metadata": {},
   "source": [
    "# ML Assignment 5\n",
    "First i will show simple operations results on dataset and then i will perform assign task in this assignmnet"
   ]
  },
  {
   "cell_type": "code",
   "execution_count": 1,
   "id": "b92972d5",
   "metadata": {},
   "outputs": [
    {
     "data": {
      "text/html": [
       "<div>\n",
       "<style scoped>\n",
       "    .dataframe tbody tr th:only-of-type {\n",
       "        vertical-align: middle;\n",
       "    }\n",
       "\n",
       "    .dataframe tbody tr th {\n",
       "        vertical-align: top;\n",
       "    }\n",
       "\n",
       "    .dataframe thead th {\n",
       "        text-align: right;\n",
       "    }\n",
       "</style>\n",
       "<table border=\"1\" class=\"dataframe\">\n",
       "  <thead>\n",
       "    <tr style=\"text-align: right;\">\n",
       "      <th></th>\n",
       "      <th>carat</th>\n",
       "      <th>cut</th>\n",
       "      <th>color</th>\n",
       "      <th>clarity</th>\n",
       "      <th>depth</th>\n",
       "      <th>table</th>\n",
       "      <th>price</th>\n",
       "      <th>x</th>\n",
       "      <th>y</th>\n",
       "      <th>z</th>\n",
       "    </tr>\n",
       "  </thead>\n",
       "  <tbody>\n",
       "    <tr>\n",
       "      <th>0</th>\n",
       "      <td>0.23</td>\n",
       "      <td>Ideal</td>\n",
       "      <td>E</td>\n",
       "      <td>SI2</td>\n",
       "      <td>61.5</td>\n",
       "      <td>55.0</td>\n",
       "      <td>326</td>\n",
       "      <td>3.95</td>\n",
       "      <td>3.98</td>\n",
       "      <td>2.43</td>\n",
       "    </tr>\n",
       "    <tr>\n",
       "      <th>1</th>\n",
       "      <td>0.21</td>\n",
       "      <td>Premium</td>\n",
       "      <td>E</td>\n",
       "      <td>SI1</td>\n",
       "      <td>59.8</td>\n",
       "      <td>61.0</td>\n",
       "      <td>326</td>\n",
       "      <td>3.89</td>\n",
       "      <td>3.84</td>\n",
       "      <td>2.31</td>\n",
       "    </tr>\n",
       "    <tr>\n",
       "      <th>2</th>\n",
       "      <td>0.23</td>\n",
       "      <td>Good</td>\n",
       "      <td>E</td>\n",
       "      <td>VS1</td>\n",
       "      <td>56.9</td>\n",
       "      <td>65.0</td>\n",
       "      <td>327</td>\n",
       "      <td>4.05</td>\n",
       "      <td>4.07</td>\n",
       "      <td>2.31</td>\n",
       "    </tr>\n",
       "    <tr>\n",
       "      <th>3</th>\n",
       "      <td>0.29</td>\n",
       "      <td>Premium</td>\n",
       "      <td>I</td>\n",
       "      <td>VS2</td>\n",
       "      <td>62.4</td>\n",
       "      <td>58.0</td>\n",
       "      <td>334</td>\n",
       "      <td>4.20</td>\n",
       "      <td>4.23</td>\n",
       "      <td>2.63</td>\n",
       "    </tr>\n",
       "    <tr>\n",
       "      <th>4</th>\n",
       "      <td>0.31</td>\n",
       "      <td>Good</td>\n",
       "      <td>J</td>\n",
       "      <td>SI2</td>\n",
       "      <td>63.3</td>\n",
       "      <td>58.0</td>\n",
       "      <td>335</td>\n",
       "      <td>4.34</td>\n",
       "      <td>4.35</td>\n",
       "      <td>2.75</td>\n",
       "    </tr>\n",
       "    <tr>\n",
       "      <th>...</th>\n",
       "      <td>...</td>\n",
       "      <td>...</td>\n",
       "      <td>...</td>\n",
       "      <td>...</td>\n",
       "      <td>...</td>\n",
       "      <td>...</td>\n",
       "      <td>...</td>\n",
       "      <td>...</td>\n",
       "      <td>...</td>\n",
       "      <td>...</td>\n",
       "    </tr>\n",
       "    <tr>\n",
       "      <th>53935</th>\n",
       "      <td>0.72</td>\n",
       "      <td>Ideal</td>\n",
       "      <td>D</td>\n",
       "      <td>SI1</td>\n",
       "      <td>60.8</td>\n",
       "      <td>57.0</td>\n",
       "      <td>2757</td>\n",
       "      <td>5.75</td>\n",
       "      <td>5.76</td>\n",
       "      <td>3.50</td>\n",
       "    </tr>\n",
       "    <tr>\n",
       "      <th>53936</th>\n",
       "      <td>0.72</td>\n",
       "      <td>Good</td>\n",
       "      <td>D</td>\n",
       "      <td>SI1</td>\n",
       "      <td>63.1</td>\n",
       "      <td>55.0</td>\n",
       "      <td>2757</td>\n",
       "      <td>5.69</td>\n",
       "      <td>5.75</td>\n",
       "      <td>3.61</td>\n",
       "    </tr>\n",
       "    <tr>\n",
       "      <th>53937</th>\n",
       "      <td>0.70</td>\n",
       "      <td>Very Good</td>\n",
       "      <td>D</td>\n",
       "      <td>SI1</td>\n",
       "      <td>62.8</td>\n",
       "      <td>60.0</td>\n",
       "      <td>2757</td>\n",
       "      <td>5.66</td>\n",
       "      <td>5.68</td>\n",
       "      <td>3.56</td>\n",
       "    </tr>\n",
       "    <tr>\n",
       "      <th>53938</th>\n",
       "      <td>0.86</td>\n",
       "      <td>Premium</td>\n",
       "      <td>H</td>\n",
       "      <td>SI2</td>\n",
       "      <td>61.0</td>\n",
       "      <td>58.0</td>\n",
       "      <td>2757</td>\n",
       "      <td>6.15</td>\n",
       "      <td>6.12</td>\n",
       "      <td>3.74</td>\n",
       "    </tr>\n",
       "    <tr>\n",
       "      <th>53939</th>\n",
       "      <td>0.75</td>\n",
       "      <td>Ideal</td>\n",
       "      <td>D</td>\n",
       "      <td>SI2</td>\n",
       "      <td>62.2</td>\n",
       "      <td>55.0</td>\n",
       "      <td>2757</td>\n",
       "      <td>5.83</td>\n",
       "      <td>5.87</td>\n",
       "      <td>3.64</td>\n",
       "    </tr>\n",
       "  </tbody>\n",
       "</table>\n",
       "<p>53940 rows × 10 columns</p>\n",
       "</div>"
      ],
      "text/plain": [
       "       carat        cut color clarity  depth  table  price     x     y     z\n",
       "0       0.23      Ideal     E     SI2   61.5   55.0    326  3.95  3.98  2.43\n",
       "1       0.21    Premium     E     SI1   59.8   61.0    326  3.89  3.84  2.31\n",
       "2       0.23       Good     E     VS1   56.9   65.0    327  4.05  4.07  2.31\n",
       "3       0.29    Premium     I     VS2   62.4   58.0    334  4.20  4.23  2.63\n",
       "4       0.31       Good     J     SI2   63.3   58.0    335  4.34  4.35  2.75\n",
       "...      ...        ...   ...     ...    ...    ...    ...   ...   ...   ...\n",
       "53935   0.72      Ideal     D     SI1   60.8   57.0   2757  5.75  5.76  3.50\n",
       "53936   0.72       Good     D     SI1   63.1   55.0   2757  5.69  5.75  3.61\n",
       "53937   0.70  Very Good     D     SI1   62.8   60.0   2757  5.66  5.68  3.56\n",
       "53938   0.86    Premium     H     SI2   61.0   58.0   2757  6.15  6.12  3.74\n",
       "53939   0.75      Ideal     D     SI2   62.2   55.0   2757  5.83  5.87  3.64\n",
       "\n",
       "[53940 rows x 10 columns]"
      ]
     },
     "execution_count": 1,
     "metadata": {},
     "output_type": "execute_result"
    }
   ],
   "source": [
    "import numpy as np\n",
    "import pandas as pd \n",
    "import seaborn as sns\n",
    "from sklearn.datasets import fetch_openml\n",
    "\n",
    "df = sns.load_dataset('diamonds')\n",
    "df"
   ]
  },
  {
   "cell_type": "code",
   "execution_count": 2,
   "id": "5e998acc",
   "metadata": {},
   "outputs": [
    {
     "data": {
      "text/plain": [
       "carat      0\n",
       "cut        0\n",
       "color      0\n",
       "clarity    0\n",
       "depth      0\n",
       "table      0\n",
       "price      0\n",
       "x          0\n",
       "y          0\n",
       "z          0\n",
       "dtype: int64"
      ]
     },
     "execution_count": 2,
     "metadata": {},
     "output_type": "execute_result"
    }
   ],
   "source": [
    "df.isnull().sum()"
   ]
  },
  {
   "cell_type": "code",
   "execution_count": 3,
   "id": "972b9181",
   "metadata": {},
   "outputs": [
    {
     "data": {
      "text/plain": [
       "<AxesSubplot:>"
      ]
     },
     "execution_count": 3,
     "metadata": {},
     "output_type": "execute_result"
    },
    {
     "data": {
      "image/png": "[encoded data removed]",
      "text/plain": [
       "<Figure size 432x288 with 2 Axes>"
      ]
     },
     "metadata": {
      "needs_background": "light"
     },
     "output_type": "display_data"
    }
   ],
   "source": [
    "sns.heatmap(df.corr(),annot = True)"
   ]
  },
  {
   "cell_type": "code",
   "execution_count": 4,
   "id": "3162f1d8",
   "metadata": {},
   "outputs": [
    {
     "data": {
      "text/plain": [
       "<seaborn.axisgrid.PairGrid at 0x1f3e3bc1ca0>"
      ]
     },
     "execution_count": 4,
     "metadata": {},
     "output_type": "execute_result"
    },
    {
     "data": {
      "image/png": "[encoded data removed]",
      "text/plain": [
       "<Figure size 720x720 with 20 Axes>"
      ]
     },
     "metadata": {
      "needs_background": "light"
     },
     "output_type": "display_data"
    }
   ],
   "source": [
    "sns.pairplot(df[['carat','x','y','z']])"
   ]
  },
  {
   "cell_type": "code",
   "execution_count": 6,
   "id": "e4b40fc6",
   "metadata": {},
   "outputs": [],
   "source": [
    "# BY just Selecting the important ones\n",
    "X = df[['x','y','z']]\n",
    "X_features = ['x','y','z']\n",
    "Xarr = X.values.reshape((-1, 1))\n",
    "y = df['carat']"
   ]
  },
  {
   "cell_type": "code",
   "execution_count": 7,
   "id": "0a95e6f1",
   "metadata": {},
   "outputs": [],
   "source": [
    "from sklearn.linear_model import SGDRegressor\n",
    "from sklearn.neighbors import KNeighborsRegressor\n",
    "from sklearn.model_selection import KFold\n",
    "from sklearn.linear_model import Lasso\n",
    "from sklearn.model_selection import cross_validate\n",
    "from sklearn.model_selection import train_test_split\n",
    "import numpy as np\n",
    "import matplotlib.pyplot as plt"
   ]
  },
  {
   "cell_type": "code",
   "execution_count": 8,
   "id": "f3b71625",
   "metadata": {},
   "outputs": [
    {
     "name": "stdout",
     "output_type": "stream",
     "text": [
      "(45849, 3) (8091, 3) (45849,) (8091,)\n"
     ]
    }
   ],
   "source": [
    "xtrain,xtest,ytrain,ytest = train_test_split(X,y,  test_size= .15)\n",
    "print(xtrain.shape,xtest.shape,ytrain.shape,ytest.shape)"
   ]
  },
  {
   "cell_type": "code",
   "execution_count": 9,
   "id": "0f94df7a",
   "metadata": {},
   "outputs": [
    {
     "name": "stdout",
     "output_type": "stream",
     "text": [
      "-- Epoch 1\n",
      "Norm: 0.29, NNZs: 3, Bias: -1.218432, T: 45849, Avg. loss: 0.018498\n",
      "Total training time: 0.01 seconds.\n",
      "-- Epoch 2\n",
      "Norm: 0.33, NNZs: 3, Bias: -1.441146, T: 91698, Avg. loss: 0.006640\n",
      "Total training time: 0.01 seconds.\n",
      "-- Epoch 3\n",
      "Norm: 0.35, NNZs: 3, Bias: -1.516961, T: 137547, Avg. loss: 0.005705\n",
      "Total training time: 0.02 seconds.\n",
      "-- Epoch 4\n",
      "Norm: 0.36, NNZs: 3, Bias: -1.545061, T: 183396, Avg. loss: 0.005543\n",
      "Total training time: 0.03 seconds.\n",
      "-- Epoch 5\n",
      "Norm: 0.36, NNZs: 3, Bias: -1.557940, T: 229245, Avg. loss: 0.005492\n",
      "Total training time: 0.04 seconds.\n",
      "-- Epoch 6\n",
      "Norm: 0.37, NNZs: 3, Bias: -1.562664, T: 275094, Avg. loss: 0.005480\n",
      "Total training time: 0.05 seconds.\n",
      "-- Epoch 7\n",
      "Norm: 0.37, NNZs: 3, Bias: -1.566253, T: 320943, Avg. loss: 0.005465\n",
      "Total training time: 0.06 seconds.\n",
      "Convergence after 7 epochs took 0.06 seconds\n",
      "SGDRegressor(alpha=0.001, verbose=1)\n",
      "number of iterations completed: 7, number of weight updates: 320944.0\n"
     ]
    }
   ],
   "source": [
    "sgdr = SGDRegressor(alpha = 0.001, verbose = 1)\n",
    "sgdr.fit(xtrain, ytrain)\n",
    "print(sgdr)\n",
    "print(f\"number of iterations completed: {sgdr.n_iter_}, number of weight updates: {sgdr.t_}\")\n"
   ]
  },
  {
   "cell_type": "code",
   "execution_count": 10,
   "id": "d0919af6",
   "metadata": {},
   "outputs": [
    {
     "name": "stdout",
     "output_type": "stream",
     "text": [
      "model parameters:\n",
      " w: [0.36153267 0.00231024 0.07329451], \n",
      " b:[-1.566253]\n"
     ]
    }
   ],
   "source": [
    "b_norm = sgdr.intercept_\n",
    "w_norm = sgdr.coef_\n",
    "print(f\"model parameters:\\n w: {w_norm}, \\n b:{b_norm}\")"
   ]
  },
  {
   "cell_type": "code",
   "execution_count": 11,
   "id": "c2093eda",
   "metadata": {},
   "outputs": [
    {
     "name": "stdout",
     "output_type": "stream",
     "text": [
      "prediction using np.dot() and sgdr.predict match: True\n",
      "Prediction on test set:\n",
      "[0.13 1.44 0.29 1.03 1.2  0.93 0.57 1.05 0.79 0.56]\n",
      "Target values \n",
      "[0.26 1.5  0.36 1.02 1.13 0.9  0.54 1.   0.71 0.53]\n"
     ]
    }
   ],
   "source": [
    "# make a prediction using sgdr.predict()\n",
    "y_pred_sgd = sgdr.predict(xtest)\n",
    "\n",
    "# make a prediction using w,b. \n",
    "y_pred = np.dot(xtest, w_norm) + b_norm  \n",
    "print(f\"prediction using np.dot() and sgdr.predict match: {(y_pred == y_pred_sgd).all()}\")\n",
    "\n",
    "print(f\"Prediction on test set:\\n{y_pred[:10].round(2)}\" )\n",
    "print(f\"Target values \\n{ytest[:10].values}\")"
   ]
  },
  {
   "cell_type": "code",
   "execution_count": 12,
   "id": "2b0d6c1f",
   "metadata": {},
   "outputs": [
    {
     "data": {
      "image/png": "[encoded data removed]",
      "text/plain": [
       "<Figure size 864x216 with 3 Axes>"
      ]
     },
     "metadata": {
      "needs_background": "light"
     },
     "output_type": "display_data"
    }
   ],
   "source": [
    "# plot predictions and targets vs original features    \n",
    "fig,ax=plt.subplots(1,3,figsize=(12,3),sharey=True)\n",
    "for i,col in enumerate(X_features):\n",
    "    ax[i].scatter(xtest[col],ytest, label = 'target', s=2)\n",
    "    ax[i].set_xlabel(X_features[i])\n",
    "    ax[i].scatter(xtest[col],y_pred, label = 'predict', s=2)\n",
    "ax[0].set_ylabel(\"carat\"); ax[0].legend();\n",
    "fig.suptitle(\"target versus prediction using z-score normalized model\")\n",
    "plt.show()"
   ]
  },
  {
   "cell_type": "code",
   "execution_count": 13,
   "id": "641cea0a",
   "metadata": {},
   "outputs": [
    {
     "name": "stdout",
     "output_type": "stream",
     "text": [
      "(45849, 2) (8091, 2) (45849,) (8091,)\n"
     ]
    }
   ],
   "source": [
    "X = df['x'].values\n",
    "x = np.c_[X, X**2]\n",
    "\n",
    "xtrain,xtest,ytrain,ytest = train_test_split(x,y,  test_size= .15)\n",
    "print(xtrain.shape,xtest.shape,ytrain.shape,ytest.shape)"
   ]
  },
  {
   "cell_type": "code",
   "execution_count": 14,
   "id": "143c9a37",
   "metadata": {},
   "outputs": [
    {
     "name": "stdout",
     "output_type": "stream",
     "text": [
      "-- Epoch 1\n",
      "Norm: 0.39, NNZs: 2, Bias: 0.796673, T: 45849, Avg. loss: 0.004077\n",
      "Total training time: 0.01 seconds.\n",
      "-- Epoch 2\n",
      "Norm: 0.45, NNZs: 2, Bias: 0.795762, T: 91698, Avg. loss: 0.002261\n",
      "Total training time: 0.01 seconds.\n",
      "-- Epoch 3\n",
      "Norm: 0.51, NNZs: 2, Bias: 0.796703, T: 137547, Avg. loss: 0.001923\n",
      "Total training time: 0.02 seconds.\n",
      "-- Epoch 4\n",
      "Norm: 0.56, NNZs: 2, Bias: 0.798575, T: 183396, Avg. loss: 0.001696\n",
      "Total training time: 0.03 seconds.\n",
      "-- Epoch 5\n",
      "Norm: 0.60, NNZs: 2, Bias: 0.797519, T: 229245, Avg. loss: 0.001532\n",
      "Total training time: 0.04 seconds.\n",
      "-- Epoch 6\n",
      "Norm: 0.63, NNZs: 2, Bias: 0.796586, T: 275094, Avg. loss: 0.001410\n",
      "Total training time: 0.05 seconds.\n",
      "-- Epoch 7\n",
      "Norm: 0.66, NNZs: 2, Bias: 0.798443, T: 320943, Avg. loss: 0.001316\n",
      "Total training time: 0.05 seconds.\n",
      "Convergence after 7 epochs took 0.05 seconds\n",
      "SGDRegressor(alpha=0.001, verbose=1)\n",
      "number of iterations completed: 7, number of weight updates: 320944.0\n",
      "model parameters:\n",
      " w: [-0.17134585  0.63919547], \n",
      " b:[0.79844256]\n"
     ]
    }
   ],
   "source": [
    "from sklearn.preprocessing import StandardScaler\n",
    "sc = StandardScaler()\n",
    "sc.fit(xtrain)\n",
    "xtrainsc = sc.transform(xtrain)\n",
    "xtestsc = sc.transform(xtest)\n",
    "\n",
    "sgdr.fit(xtrainsc, ytrain)\n",
    "print(sgdr)\n",
    "print(f\"number of iterations completed: {sgdr.n_iter_}, number of weight updates: {sgdr.t_}\")\n",
    "b_norm = sgdr.intercept_\n",
    "w_norm = sgdr.coef_\n",
    "print(f\"model parameters:\\n w: {w_norm}, \\n b:{b_norm}\")"
   ]
  },
  {
   "cell_type": "code",
   "execution_count": 15,
   "id": "4da8acf9",
   "metadata": {},
   "outputs": [
    {
     "data": {
      "text/plain": [
       "0.9894826778725417"
      ]
     },
     "execution_count": 15,
     "metadata": {},
     "output_type": "execute_result"
    }
   ],
   "source": [
    "sgdr.score(xtestsc,ytest)"
   ]
  },
  {
   "cell_type": "code",
   "execution_count": 16,
   "id": "026b85a9",
   "metadata": {},
   "outputs": [
    {
     "data": {
      "image/png": "[encoded data removed]",
      "text/plain": [
       "<Figure size 432x288 with 1 Axes>"
      ]
     },
     "metadata": {
      "needs_background": "light"
     },
     "output_type": "display_data"
    }
   ],
   "source": [
    "ypred = sgdr.predict(xtestsc) \n",
    "plt.scatter(xtest[:,1], ytest, marker='x', c='r', label=\"Actual Value\"); plt.title(\"x, x**2,  features\")\n",
    "plt.scatter(xtest[:,1],ypred, label=\"Predicted Value\", s = 4); plt.xlabel(\"x\"); plt.ylabel(\"y\"); plt.legend(); plt.show()"
   ]
  },
  {
   "cell_type": "markdown",
   "id": "a693f8a2",
   "metadata": {},
   "source": [
    "# Task: 1\n",
    "1: add another polynomial degree 𝑥^3 and explain which is a better fit with better score"
   ]
  },
  {
   "cell_type": "code",
   "execution_count": 17,
   "id": "6d55433e",
   "metadata": {},
   "outputs": [
    {
     "name": "stdout",
     "output_type": "stream",
     "text": [
      "(45849, 3) (8091, 3) (45849,) (8091,)\n"
     ]
    }
   ],
   "source": [
    "X = df['x'].values\n",
    "x = np.c_[X, X**2,X**3]\n",
    "\n",
    "xtrain,xtest,ytrain,ytest = train_test_split(x,y,  test_size= .15)\n",
    "print(xtrain.shape,xtest.shape,ytrain.shape,ytest.shape)"
   ]
  },
  {
   "cell_type": "code",
   "execution_count": 18,
   "id": "9a1595f9",
   "metadata": {},
   "outputs": [
    {
     "name": "stdout",
     "output_type": "stream",
     "text": [
      "-- Epoch 1\n",
      "Norm: 0.34, NNZs: 3, Bias: 0.800610, T: 45849, Avg. loss: 0.002464\n",
      "Total training time: 0.01 seconds.\n",
      "-- Epoch 2\n",
      "Norm: 0.37, NNZs: 3, Bias: 0.798395, T: 91698, Avg. loss: 0.000989\n",
      "Total training time: 0.01 seconds.\n",
      "-- Epoch 3\n",
      "Norm: 0.39, NNZs: 3, Bias: 0.800838, T: 137547, Avg. loss: 0.000918\n",
      "Total training time: 0.02 seconds.\n",
      "-- Epoch 4\n",
      "Norm: 0.40, NNZs: 3, Bias: 0.799598, T: 183396, Avg. loss: 0.000894\n",
      "Total training time: 0.03 seconds.\n",
      "-- Epoch 5\n",
      "Norm: 0.41, NNZs: 3, Bias: 0.800627, T: 229245, Avg. loss: 0.000884\n",
      "Total training time: 0.04 seconds.\n",
      "-- Epoch 6\n",
      "Norm: 0.41, NNZs: 3, Bias: 0.800123, T: 275094, Avg. loss: 0.000879\n",
      "Total training time: 0.05 seconds.\n",
      "-- Epoch 7\n",
      "Norm: 0.42, NNZs: 3, Bias: 0.799494, T: 320943, Avg. loss: 0.000877\n",
      "Total training time: 0.06 seconds.\n",
      "Convergence after 7 epochs took 0.06 seconds\n",
      "SGDRegressor(alpha=0.001, verbose=1)\n",
      "number of iterations completed: 7, number of weight updates: 320944.0\n",
      "model parameters:\n",
      " w: [-0.07012361  0.17269443  0.37217091], \n",
      " b:[0.79949413]\n"
     ]
    }
   ],
   "source": [
    "from sklearn.preprocessing import StandardScaler\n",
    "sc = StandardScaler()\n",
    "sc.fit(xtrain)\n",
    "xtrainsc = sc.transform(xtrain)\n",
    "xtestsc = sc.transform(xtest)\n",
    "\n",
    "sgdr.fit(xtrainsc, ytrain)\n",
    "print(sgdr)\n",
    "print(f\"number of iterations completed: {sgdr.n_iter_}, number of weight updates: {sgdr.t_}\")\n",
    "b_norm = sgdr.intercept_\n",
    "w_norm = sgdr.coef_\n",
    "print(f\"model parameters:\\n w: {w_norm}, \\n b:{b_norm}\")"
   ]
  },
  {
   "cell_type": "code",
   "execution_count": 19,
   "id": "86a56a27",
   "metadata": {},
   "outputs": [
    {
     "data": {
      "text/plain": [
       "0.9924750665891453"
      ]
     },
     "execution_count": 19,
     "metadata": {},
     "output_type": "execute_result"
    }
   ],
   "source": [
    "sgdr.score(xtestsc,ytest)"
   ]
  },
  {
   "cell_type": "code",
   "execution_count": 20,
   "id": "800b7905",
   "metadata": {},
   "outputs": [
    {
     "data": {
      "image/png": "[encoded data removed]",
      "text/plain": [
       "<Figure size 432x288 with 1 Axes>"
      ]
     },
     "metadata": {
      "needs_background": "light"
     },
     "output_type": "display_data"
    }
   ],
   "source": [
    "ypred = sgdr.predict(xtestsc) \n",
    "plt.scatter(xtest[:,1], ytest, marker='x', c='r', label=\"Actual Value\"); plt.title(\"x, x**2,x**3,  features\")\n",
    "plt.scatter(xtest[:,1],ypred, label=\"Predicted Value\", s = 4); plt.xlabel(\"x\"); plt.ylabel(\"y\"); plt.legend(); plt.show()"
   ]
  },
  {
   "cell_type": "markdown",
   "id": "30651cb6",
   "metadata": {},
   "source": [
    "Polynomial with degree x^2 we get the better fit with score 0.9859242956320872 while polynomial with degree x^3 we get the better fit with better score 0.9935160352349187 approximately both scores are same but polynomial with degree x^3 give us better fit with better score as compared to the degree x^2 So, polynomial with degree x^3 better than degree x^2 in this case. while in some cases degree x^2 may provide better score then degree with x^3 its depend on the situation and behaviour of the data. "
   ]
  },
  {
   "cell_type": "markdown",
   "id": "45d4b545",
   "metadata": {},
   "source": [
    "# Task: 2\n",
    "2: redo this lab for y and z features"
   ]
  },
  {
   "cell_type": "code",
   "execution_count": 21,
   "id": "c5e16b05",
   "metadata": {},
   "outputs": [],
   "source": [
    "# BY just Selecting the important ones\n",
    "X = df[['y','z']]\n",
    "X_features = ['y','z']\n",
    "Xarr = X.values.reshape((-1, 1))\n",
    "y = df['carat']"
   ]
  },
  {
   "cell_type": "code",
   "execution_count": 22,
   "id": "46304a93",
   "metadata": {},
   "outputs": [],
   "source": [
    "from sklearn.linear_model import SGDRegressor\n",
    "from sklearn.neighbors import KNeighborsRegressor\n",
    "from sklearn.model_selection import KFold\n",
    "from sklearn.linear_model import Lasso\n",
    "from sklearn.model_selection import cross_validate\n",
    "from sklearn.model_selection import train_test_split\n",
    "import numpy as np\n",
    "import matplotlib.pyplot as plt"
   ]
  },
  {
   "cell_type": "code",
   "execution_count": 23,
   "id": "764eb41d",
   "metadata": {},
   "outputs": [
    {
     "name": "stdout",
     "output_type": "stream",
     "text": [
      "0.0 0.0 0.2 0.2\n",
      "1238.833224 1003.0030009999999 5.01 4.0\n"
     ]
    }
   ],
   "source": [
    "print(xtrain.min(),xtest.min(),ytrain.min(),ytest.min())\n",
    "print(xtrain.max(),xtest.max(),ytrain.max(),ytest.max())"
   ]
  },
  {
   "cell_type": "code",
   "execution_count": 27,
   "id": "0a4c774f",
   "metadata": {},
   "outputs": [],
   "source": [
    "# scaling feature\n",
    "from sklearn.preprocessing import StandardScaler\n",
    "sc = StandardScaler()\n",
    "sc.fit(xtrain)\n",
    "xtrainsc = sc.transform(xtrain)\n",
    "xtestsc = sc.transform(xtest)"
   ]
  },
  {
   "cell_type": "code",
   "execution_count": 29,
   "id": "9fec0a09",
   "metadata": {},
   "outputs": [
    {
     "name": "stdout",
     "output_type": "stream",
     "text": [
      "-- Epoch 1\n",
      "Norm: 0.24, NNZs: 3, Bias: 0.800339, T: 45849, Avg. loss: 0.005394\n",
      "Total training time: 0.01 seconds.\n",
      "-- Epoch 2\n",
      "Norm: 0.23, NNZs: 3, Bias: 0.799538, T: 91698, Avg. loss: 0.004266\n",
      "Total training time: 0.02 seconds.\n",
      "-- Epoch 3\n",
      "Norm: 0.24, NNZs: 3, Bias: 0.800477, T: 137547, Avg. loss: 0.004278\n",
      "Total training time: 0.02 seconds.\n",
      "-- Epoch 4\n",
      "Norm: 0.24, NNZs: 3, Bias: 0.801540, T: 183396, Avg. loss: 0.004270\n",
      "Total training time: 0.03 seconds.\n",
      "-- Epoch 5\n",
      "Norm: 0.23, NNZs: 3, Bias: 0.798982, T: 229245, Avg. loss: 0.004260\n",
      "Total training time: 0.04 seconds.\n",
      "-- Epoch 6\n",
      "Norm: 0.24, NNZs: 3, Bias: 0.801774, T: 275094, Avg. loss: 0.004274\n",
      "Total training time: 0.05 seconds.\n",
      "-- Epoch 7\n",
      "Norm: 0.23, NNZs: 3, Bias: 0.799639, T: 320943, Avg. loss: 0.004259\n",
      "Total training time: 0.06 seconds.\n",
      "Convergence after 7 epochs took 0.06 seconds\n",
      "SGDRegressor(alpha=0.5, max_iter=100000, verbose=1)\n",
      "number of iterations completed: 7, number of weight updates: 320944.0\n"
     ]
    }
   ],
   "source": [
    "sgdr = SGDRegressor(alpha = 0.5, verbose = 1, max_iter=100000)\n",
    "sgdr.fit(xtrainsc, ytrain)\n",
    "print(sgdr)\n",
    "print(f\"number of iterations completed: {sgdr.n_iter_}, number of weight updates: {sgdr.t_}\")"
   ]
  },
  {
   "cell_type": "code",
   "execution_count": 30,
   "id": "1f8348fc",
   "metadata": {},
   "outputs": [
    {
     "name": "stdout",
     "output_type": "stream",
     "text": [
      "model parameters:\n",
      " w: [0.12515784 0.13510098 0.14315106], \n",
      " b:[0.79963918]\n"
     ]
    }
   ],
   "source": [
    "b_norm = sgdr.intercept_\n",
    "w_norm = sgdr.coef_\n",
    "print(f\"model parameters:\\n w: {w_norm}, \\n b:{b_norm}\")"
   ]
  },
  {
   "cell_type": "code",
   "execution_count": 31,
   "id": "351e17c4",
   "metadata": {},
   "outputs": [
    {
     "name": "stdout",
     "output_type": "stream",
     "text": [
      "prediction using np.dot() and sgdr.predict match: False\n",
      "Prediction on test set:\n",
      "[19.56 17.86 42.18 17.34 16.35 15.03 58.56 39.44 54.23 96.89]\n",
      "Target values \n",
      "[0.39 0.35 0.91 0.35 0.32 0.3  1.34 0.9  1.21 2.  ]\n"
     ]
    }
   ],
   "source": [
    "# make a prediction using sgdr.predict()\n",
    "y_pred_sgd = sgdr.predict(xtestsc)\n",
    "\n",
    "# make a prediction using w,b. \n",
    "y_pred = np.dot(xtest, w_norm) + b_norm  \n",
    "print(f\"prediction using np.dot() and sgdr.predict match: {(y_pred == y_pred_sgd).all()}\")\n",
    "\n",
    "print(f\"Prediction on test set:\\n{y_pred[:10].round(2)}\" )\n",
    "print(f\"Target values \\n{ytest[:10].values}\")"
   ]
  },
  {
   "cell_type": "code",
   "execution_count": 32,
   "id": "9a29742a",
   "metadata": {},
   "outputs": [
    {
     "data": {
      "image/png": "[encoded data removed]",
      "text/plain": [
       "<Figure size 864x216 with 2 Axes>"
      ]
     },
     "metadata": {
      "needs_background": "light"
     },
     "output_type": "display_data"
    }
   ],
   "source": [
    "# plot predictions and targets vs original features    \n",
    "fig,ax=plt.subplots(1,2,figsize=(12,3),sharey=True)\n",
    "for i,col in enumerate(X_features):\n",
    "    ax[i].scatter(xtest[:,i],ytest, label = 'target', s=2)\n",
    "    ax[i].set_xlabel(X_features[i])\n",
    "    ax[i].scatter(xtest[:,i],y_pred, label = 'predict', s=2)\n",
    "ax[0].set_ylabel(\"carat\"); ax[0].legend();\n",
    "fig.suptitle(\"target versus prediction using z-score normalized model\")\n",
    "plt.show()"
   ]
  },
  {
   "cell_type": "markdown",
   "id": "465fc768",
   "metadata": {},
   "source": [
    "## for y"
   ]
  },
  {
   "cell_type": "code",
   "execution_count": 33,
   "id": "a1008183",
   "metadata": {},
   "outputs": [
    {
     "name": "stdout",
     "output_type": "stream",
     "text": [
      "0.0 0.0 0.2 0.2\n",
      "1238.833224 1003.0030009999999 5.01 4.0\n"
     ]
    }
   ],
   "source": [
    "X = df['y'].values\n",
    "x = np.c_[X, X**2,X**3,]\n",
    "\n",
    "\n",
    "print(xtrain.min(),xtest.min(),ytrain.min(),ytest.min())\n",
    "print(xtrain.max(),xtest.max(),ytrain.max(),ytest.max())"
   ]
  },
  {
   "cell_type": "code",
   "execution_count": 34,
   "id": "ebd255ea",
   "metadata": {},
   "outputs": [
    {
     "name": "stdout",
     "output_type": "stream",
     "text": [
      "-- Epoch 1\n",
      "Norm: 0.24, NNZs: 3, Bias: 0.800265, T: 45849, Avg. loss: 0.005443\n",
      "Total training time: 0.01 seconds.\n",
      "-- Epoch 2\n",
      "Norm: 0.23, NNZs: 3, Bias: 0.800695, T: 91698, Avg. loss: 0.004265\n",
      "Total training time: 0.01 seconds.\n",
      "-- Epoch 3\n",
      "Norm: 0.23, NNZs: 3, Bias: 0.800352, T: 137547, Avg. loss: 0.004269\n",
      "Total training time: 0.02 seconds.\n",
      "-- Epoch 4\n",
      "Norm: 0.23, NNZs: 3, Bias: 0.800471, T: 183396, Avg. loss: 0.004270\n",
      "Total training time: 0.03 seconds.\n",
      "-- Epoch 5\n",
      "Norm: 0.23, NNZs: 3, Bias: 0.799788, T: 229245, Avg. loss: 0.004265\n",
      "Total training time: 0.04 seconds.\n",
      "-- Epoch 6\n",
      "Norm: 0.23, NNZs: 3, Bias: 0.800565, T: 275094, Avg. loss: 0.004269\n",
      "Total training time: 0.05 seconds.\n",
      "-- Epoch 7\n",
      "Norm: 0.24, NNZs: 3, Bias: 0.802193, T: 320943, Avg. loss: 0.004270\n",
      "Total training time: 0.06 seconds.\n",
      "Convergence after 7 epochs took 0.06 seconds\n",
      "SGDRegressor(alpha=0.5, max_iter=100000, verbose=1)\n",
      "number of iterations completed: 7, number of weight updates: 320944.0\n",
      "model parameters:\n",
      " w: [0.12570445 0.13617992 0.14532433], \n",
      " b:[0.80219299]\n"
     ]
    }
   ],
   "source": [
    "from sklearn.preprocessing import StandardScaler\n",
    "sc = StandardScaler()\n",
    "sc.fit(xtrain)\n",
    "xtrainsc = sc.transform(xtrain)\n",
    "xtestsc = sc.transform(xtest)\n",
    "\n",
    "sgdr.fit(xtrainsc, ytrain)\n",
    "print(sgdr)\n",
    "print(f\"number of iterations completed: {sgdr.n_iter_}, number of weight updates: {sgdr.t_}\")\n",
    "b_norm = sgdr.intercept_\n",
    "w_norm = sgdr.coef_\n",
    "print(f\"model parameters:\\n w: {w_norm}, \\n b:{b_norm}\")"
   ]
  },
  {
   "cell_type": "code",
   "execution_count": 35,
   "id": "4729b5c8",
   "metadata": {},
   "outputs": [
    {
     "data": {
      "text/plain": [
       "0.9652655236940768"
      ]
     },
     "execution_count": 35,
     "metadata": {},
     "output_type": "execute_result"
    }
   ],
   "source": [
    "sgdr.score(xtestsc,ytest)"
   ]
  },
  {
   "cell_type": "code",
   "execution_count": 36,
   "id": "58da3c59",
   "metadata": {},
   "outputs": [
    {
     "data": {
      "image/png": "[encoded data removed]",
      "text/plain": [
       "<Figure size 432x288 with 1 Axes>"
      ]
     },
     "metadata": {
      "needs_background": "light"
     },
     "output_type": "display_data"
    }
   ],
   "source": [
    "ypred = sgdr.predict(xtestsc) \n",
    "plt.scatter(xtest[:,1], ytest, marker='x', c='r', label=\"Actual Value\"); plt.title(\"x, x**2,x**3,  features\")\n",
    "plt.scatter(xtest[:,1],ypred, label=\"Predicted Value\", s = 4); plt.xlabel(\"x\"); plt.ylabel(\"y\"); plt.legend(); plt.show()"
   ]
  },
  {
   "cell_type": "markdown",
   "id": "6b5d94a0",
   "metadata": {},
   "source": [
    "## for z"
   ]
  },
  {
   "cell_type": "code",
   "execution_count": 37,
   "id": "75e149d5",
   "metadata": {},
   "outputs": [
    {
     "name": "stdout",
     "output_type": "stream",
     "text": [
      "0.0 0.0 0.2 0.2\n",
      "1238.833224 1003.0030009999999 5.01 4.0\n"
     ]
    }
   ],
   "source": [
    "X = df['z'].values\n",
    "x = np.c_[X, X**2,X**3,]\n",
    "\n",
    "\n",
    "print(xtrain.min(),xtest.min(),ytrain.min(),ytest.min())\n",
    "print(xtrain.max(),xtest.max(),ytrain.max(),ytest.max())"
   ]
  },
  {
   "cell_type": "code",
   "execution_count": 38,
   "id": "a35b5805",
   "metadata": {},
   "outputs": [
    {
     "name": "stdout",
     "output_type": "stream",
     "text": [
      "-- Epoch 1\n",
      "Norm: 0.23, NNZs: 3, Bias: 0.800367, T: 45849, Avg. loss: 0.005425\n",
      "Total training time: 0.01 seconds.\n",
      "-- Epoch 2\n",
      "Norm: 0.23, NNZs: 3, Bias: 0.798749, T: 91698, Avg. loss: 0.004271\n",
      "Total training time: 0.01 seconds.\n",
      "-- Epoch 3\n",
      "Norm: 0.24, NNZs: 3, Bias: 0.800868, T: 137547, Avg. loss: 0.004276\n",
      "Total training time: 0.02 seconds.\n",
      "-- Epoch 4\n",
      "Norm: 0.23, NNZs: 3, Bias: 0.798265, T: 183396, Avg. loss: 0.004261\n",
      "Total training time: 0.02 seconds.\n",
      "-- Epoch 5\n",
      "Norm: 0.23, NNZs: 3, Bias: 0.798733, T: 229245, Avg. loss: 0.004257\n",
      "Total training time: 0.03 seconds.\n",
      "-- Epoch 6\n",
      "Norm: 0.23, NNZs: 3, Bias: 0.799284, T: 275094, Avg. loss: 0.004272\n",
      "Total training time: 0.04 seconds.\n",
      "-- Epoch 7\n",
      "Norm: 0.23, NNZs: 3, Bias: 0.799741, T: 320943, Avg. loss: 0.004271\n",
      "Total training time: 0.04 seconds.\n",
      "Convergence after 7 epochs took 0.04 seconds\n",
      "SGDRegressor(alpha=0.5, max_iter=100000, verbose=1)\n",
      "number of iterations completed: 7, number of weight updates: 320944.0\n",
      "model parameters:\n",
      " w: [0.12532941 0.13605198 0.14450368], \n",
      " b:[0.79974101]\n"
     ]
    }
   ],
   "source": [
    "from sklearn.preprocessing import StandardScaler\n",
    "sc = StandardScaler()\n",
    "sc.fit(xtrain)\n",
    "xtrainsc = sc.transform(xtrain)\n",
    "xtestsc = sc.transform(xtest)\n",
    "\n",
    "sgdr.fit(xtrainsc, ytrain)\n",
    "print(sgdr)\n",
    "print(f\"number of iterations completed: {sgdr.n_iter_}, number of weight updates: {sgdr.t_}\")\n",
    "b_norm = sgdr.intercept_\n",
    "w_norm = sgdr.coef_\n",
    "print(f\"model parameters:\\n w: {w_norm}, \\n b:{b_norm}\")"
   ]
  },
  {
   "cell_type": "code",
   "execution_count": 39,
   "id": "9b5d75dd",
   "metadata": {},
   "outputs": [
    {
     "data": {
      "text/plain": [
       "0.9645934229879413"
      ]
     },
     "execution_count": 39,
     "metadata": {},
     "output_type": "execute_result"
    }
   ],
   "source": [
    "sgdr.score(xtestsc,ytest)"
   ]
  },
  {
   "cell_type": "code",
   "execution_count": 40,
   "id": "8da02132",
   "metadata": {},
   "outputs": [
    {
     "data": {
      "image/png": "[encoded data removed]",
      "text/plain": [
       "<Figure size 432x288 with 1 Axes>"
      ]
     },
     "metadata": {
      "needs_background": "light"
     },
     "output_type": "display_data"
    }
   ],
   "source": [
    "ypred = sgdr.predict(xtestsc) \n",
    "plt.scatter(xtest[:,1], ytest, marker='x', c='r', label=\"Actual Value\"); plt.title(\"x, x**2,x**3,  features\")\n",
    "plt.scatter(xtest[:,1],ypred, label=\"Predicted Value\", s = 4); plt.xlabel(\"x\"); plt.ylabel(\"y\"); plt.legend(); plt.show()"
   ]
  },
  {
   "cell_type": "markdown",
   "id": "727359ab",
   "metadata": {},
   "source": [
    "# Task: 3\n",
    "3: what happens without feature scaling?"
   ]
  },
  {
   "cell_type": "markdown",
   "id": "5ad6665f",
   "metadata": {},
   "source": [
    "# with scaling"
   ]
  },
  {
   "cell_type": "code",
   "execution_count": 41,
   "id": "da1b7a07",
   "metadata": {},
   "outputs": [
    {
     "name": "stdout",
     "output_type": "stream",
     "text": [
      "(45849, 2) (8091, 2) (45849,) (8091,)\n"
     ]
    }
   ],
   "source": [
    " # with scaling \n",
    "X = df['x'].values\n",
    "x = np.c_[X, X**2]\n",
    "\n",
    "xtrain,xtest,ytrain,ytest = train_test_split(x,y,  test_size= .15)\n",
    "print(xtrain.shape,xtest.shape,ytrain.shape,ytest.shape)"
   ]
  },
  {
   "cell_type": "code",
   "execution_count": 42,
   "id": "58e50fa6",
   "metadata": {},
   "outputs": [],
   "source": [
    "# scaling feature\n",
    "from sklearn.preprocessing import StandardScaler\n",
    "sc = StandardScaler()\n",
    "sc.fit(xtrain)\n",
    "xtrainsc = sc.transform(xtrain)\n",
    "xtestsc = sc.transform(xtest)"
   ]
  },
  {
   "cell_type": "code",
   "execution_count": 43,
   "id": "adb8a629",
   "metadata": {},
   "outputs": [
    {
     "name": "stdout",
     "output_type": "stream",
     "text": [
      "-- Epoch 1\n",
      "Norm: 0.27, NNZs: 2, Bias: 0.798925, T: 45849, Avg. loss: 0.009017\n",
      "Total training time: 0.01 seconds.\n",
      "-- Epoch 2\n",
      "Norm: 0.26, NNZs: 2, Bias: 0.799760, T: 91698, Avg. loss: 0.007806\n",
      "Total training time: 0.01 seconds.\n",
      "-- Epoch 3\n",
      "Norm: 0.26, NNZs: 2, Bias: 0.795014, T: 137547, Avg. loss: 0.007805\n",
      "Total training time: 0.02 seconds.\n",
      "-- Epoch 4\n",
      "Norm: 0.27, NNZs: 2, Bias: 0.800493, T: 183396, Avg. loss: 0.007826\n",
      "Total training time: 0.03 seconds.\n",
      "-- Epoch 5\n",
      "Norm: 0.27, NNZs: 2, Bias: 0.800219, T: 229245, Avg. loss: 0.007816\n",
      "Total training time: 0.04 seconds.\n",
      "-- Epoch 6\n",
      "Norm: 0.27, NNZs: 2, Bias: 0.799793, T: 275094, Avg. loss: 0.007805\n",
      "Total training time: 0.04 seconds.\n",
      "-- Epoch 7\n",
      "Norm: 0.27, NNZs: 2, Bias: 0.799694, T: 320943, Avg. loss: 0.007810\n",
      "Total training time: 0.05 seconds.\n",
      "Convergence after 7 epochs took 0.05 seconds\n",
      "SGDRegressor(alpha=0.5, max_iter=100000, verbose=1)\n",
      "number of iterations completed: 7, number of weight updates: 320944.0\n",
      "model parameters:\n",
      " w: [0.18129031 0.1969454 ], \n",
      " b:[0.79969393]\n"
     ]
    }
   ],
   "source": [
    "sgdr.fit(xtrainsc, ytrain)\n",
    "print(sgdr)\n",
    "print(f\"number of iterations completed: {sgdr.n_iter_}, number of weight updates: {sgdr.t_}\")\n",
    "b_norm = sgdr.intercept_\n",
    "w_norm = sgdr.coef_\n",
    "print(f\"model parameters:\\n w: {w_norm}, \\n b:{b_norm}\")"
   ]
  },
  {
   "cell_type": "code",
   "execution_count": 44,
   "id": "cbe37cdc",
   "metadata": {},
   "outputs": [
    {
     "data": {
      "text/plain": [
       "0.9342419940569481"
      ]
     },
     "execution_count": 44,
     "metadata": {},
     "output_type": "execute_result"
    }
   ],
   "source": [
    "sgdr.score(xtestsc,ytest)"
   ]
  },
  {
   "cell_type": "code",
   "execution_count": 45,
   "id": "8b0bea66",
   "metadata": {},
   "outputs": [
    {
     "data": {
      "image/png": "[encoded data removed]",
      "text/plain": [
       "<Figure size 432x288 with 1 Axes>"
      ]
     },
     "metadata": {
      "needs_background": "light"
     },
     "output_type": "display_data"
    }
   ],
   "source": [
    "ypred = sgdr.predict(xtestsc) \n",
    "plt.scatter(xtest[:,1], ytest, marker='x', c='r', label=\"Actual Value\"); plt.title(\"x, x**2,  features\")\n",
    "plt.scatter(xtest[:,1],ypred, label=\"Predicted Value\", s = 4); plt.xlabel(\"x\"); plt.ylabel(\"y\"); plt.legend(); plt.show()"
   ]
  },
  {
   "cell_type": "markdown",
   "id": "98951d9a",
   "metadata": {},
   "source": [
    "# without scaling"
   ]
  },
  {
   "cell_type": "code",
   "execution_count": 46,
   "id": "81a37034",
   "metadata": {},
   "outputs": [
    {
     "name": "stdout",
     "output_type": "stream",
     "text": [
      "(45849, 2) (8091, 2) (45849,) (8091,)\n"
     ]
    }
   ],
   "source": [
    "# without scaling \n",
    "X = df['x'].values\n",
    "x = np.c_[X, X**2]\n",
    "\n",
    "xtrain,xtest,ytrain,ytest = train_test_split(x,y,  test_size= .15)\n",
    "print(xtrain.shape,xtest.shape,ytrain.shape,ytest.shape)"
   ]
  },
  {
   "cell_type": "code",
   "execution_count": 47,
   "id": "bd847e11",
   "metadata": {},
   "outputs": [
    {
     "name": "stdout",
     "output_type": "stream",
     "text": [
      "-- Epoch 1\n",
      "Norm: 675513961.85, NNZs: 2, Bias: 2789174399.459345, T: 45849, Avg. loss: 28919919731002698629120.000000\n",
      "Total training time: 0.01 seconds.\n",
      "-- Epoch 2\n",
      "Norm: 218226287.19, NNZs: 2, Bias: 896249771.300281, T: 91698, Avg. loss: 39960633976513928.000000\n",
      "Total training time: 0.01 seconds.\n",
      "-- Epoch 3\n",
      "Norm: 79649359.23, NNZs: 2, Bias: 331706946.089000, T: 137547, Avg. loss: 3788392152996262.500000\n",
      "Total training time: 0.02 seconds.\n",
      "-- Epoch 4\n",
      "Norm: 31794355.53, NNZs: 2, Bias: 132941208.794603, T: 183396, Avg. loss: 502904697628555.000000\n",
      "Total training time: 0.03 seconds.\n",
      "-- Epoch 5\n",
      "Norm: 13749520.69, NNZs: 2, Bias: 56301791.054672, T: 229245, Avg. loss: 80352886302543.453125\n",
      "Total training time: 0.03 seconds.\n",
      "-- Epoch 6\n",
      "Norm: 6002621.92, NNZs: 2, Bias: 24913511.488748, T: 275094, Avg. loss: 14327107447563.246094\n",
      "Total training time: 0.04 seconds.\n",
      "-- Epoch 7\n",
      "Norm: 2775042.75, NNZs: 2, Bias: 11391159.789488, T: 320943, Avg. loss: 2838134670136.562012\n",
      "Total training time: 0.05 seconds.\n",
      "-- Epoch 8\n",
      "Norm: 1301225.45, NNZs: 2, Bias: 5359602.433075, T: 366792, Avg. loss: 588978506180.800537\n",
      "Total training time: 0.05 seconds.\n",
      "-- Epoch 9\n",
      "Norm: 618276.44, NNZs: 2, Bias: 2581932.876258, T: 412641, Avg. loss: 130290927985.707520\n",
      "Total training time: 0.07 seconds.\n",
      "-- Epoch 10\n",
      "Norm: 306787.56, NNZs: 2, Bias: 1266638.386587, T: 458490, Avg. loss: 30282200455.922016\n",
      "Total training time: 0.08 seconds.\n",
      "-- Epoch 11\n",
      "Norm: 151961.55, NNZs: 2, Bias: 633330.711701, T: 504339, Avg. loss: 7295780749.554482\n",
      "Total training time: 0.08 seconds.\n",
      "-- Epoch 12\n",
      "Norm: 77632.19, NNZs: 2, Bias: 321588.841907, T: 550188, Avg. loss: 1849091439.661433\n",
      "Total training time: 0.09 seconds.\n",
      "-- Epoch 13\n",
      "Norm: 40425.64, NNZs: 2, Bias: 165439.267159, T: 596037, Avg. loss: 477484061.069638\n",
      "Total training time: 0.09 seconds.\n",
      "-- Epoch 14\n",
      "Norm: 20864.60, NNZs: 2, Bias: 86305.117559, T: 641886, Avg. loss: 125917075.395120\n",
      "Total training time: 0.10 seconds.\n",
      "-- Epoch 15\n",
      "Norm: 11105.70, NNZs: 2, Bias: 45498.320325, T: 687735, Avg. loss: 34449544.149837\n",
      "Total training time: 0.10 seconds.\n",
      "-- Epoch 16\n",
      "Norm: 5876.54, NNZs: 2, Bias: 24263.004745, T: 733584, Avg. loss: 9561181.263964\n",
      "Total training time: 0.11 seconds.\n",
      "-- Epoch 17\n",
      "Norm: 3145.95, NNZs: 2, Bias: 13065.520956, T: 779433, Avg. loss: 2734534.987888\n",
      "Total training time: 0.11 seconds.\n",
      "-- Epoch 18\n",
      "Norm: 1719.49, NNZs: 2, Bias: 7092.149895, T: 825282, Avg. loss: 793577.212995\n",
      "Total training time: 0.12 seconds.\n",
      "-- Epoch 19\n",
      "Norm: 948.71, NNZs: 2, Bias: 3886.300331, T: 871131, Avg. loss: 236040.241425\n",
      "Total training time: 0.12 seconds.\n",
      "-- Epoch 20\n",
      "Norm: 521.42, NNZs: 2, Bias: 2146.318979, T: 916980, Avg. loss: 70652.883470\n",
      "Total training time: 0.13 seconds.\n",
      "-- Epoch 21\n",
      "Norm: 288.44, NNZs: 2, Bias: 1194.821355, T: 962829, Avg. loss: 21620.191766\n",
      "Total training time: 0.13 seconds.\n",
      "-- Epoch 22\n",
      "Norm: 161.84, NNZs: 2, Bias: 669.008526, T: 1008678, Avg. loss: 6711.816731\n",
      "Total training time: 0.14 seconds.\n",
      "-- Epoch 23\n",
      "Norm: 91.10, NNZs: 2, Bias: 376.882363, T: 1054527, Avg. loss: 2106.134703\n",
      "Total training time: 0.15 seconds.\n",
      "-- Epoch 24\n",
      "Norm: 51.88, NNZs: 2, Bias: 213.516251, T: 1100376, Avg. loss: 669.023836\n",
      "Total training time: 0.15 seconds.\n",
      "-- Epoch 25\n",
      "Norm: 29.64, NNZs: 2, Bias: 121.720856, T: 1146225, Avg. loss: 216.364385\n",
      "Total training time: 0.16 seconds.\n",
      "-- Epoch 26\n",
      "Norm: 17.13, NNZs: 2, Bias: 69.625792, T: 1192074, Avg. loss: 70.245990\n",
      "Total training time: 0.16 seconds.\n",
      "-- Epoch 27\n",
      "Norm: 9.90, NNZs: 2, Bias: 40.018687, T: 1237923, Avg. loss: 23.288620\n",
      "Total training time: 0.17 seconds.\n",
      "-- Epoch 28\n",
      "Norm: 5.73, NNZs: 2, Bias: 23.053726, T: 1283772, Avg. loss: 7.739255\n",
      "Total training time: 0.17 seconds.\n",
      "-- Epoch 29\n",
      "Norm: 3.33, NNZs: 2, Bias: 13.272305, T: 1329621, Avg. loss: 2.601445\n",
      "Total training time: 0.18 seconds.\n",
      "-- Epoch 30\n",
      "Norm: 1.97, NNZs: 2, Bias: 7.609140, T: 1375470, Avg. loss: 0.885272\n",
      "Total training time: 0.18 seconds.\n",
      "-- Epoch 31\n",
      "Norm: 1.15, NNZs: 2, Bias: 4.321946, T: 1421319, Avg. loss: 0.302839\n",
      "Total training time: 0.19 seconds.\n",
      "-- Epoch 32\n",
      "Norm: 0.68, NNZs: 2, Bias: 2.400711, T: 1467168, Avg. loss: 0.106574\n",
      "Total training time: 0.19 seconds.\n",
      "-- Epoch 33\n",
      "Norm: 0.41, NNZs: 2, Bias: 1.270469, T: 1513017, Avg. loss: 0.038720\n",
      "Total training time: 0.20 seconds.\n",
      "-- Epoch 34\n",
      "Norm: 0.25, NNZs: 2, Bias: 0.606755, T: 1558866, Avg. loss: 0.015262\n",
      "Total training time: 0.20 seconds.\n",
      "-- Epoch 35\n",
      "Norm: 0.15, NNZs: 2, Bias: 0.212807, T: 1604715, Avg. loss: 0.007089\n",
      "Total training time: 0.21 seconds.\n",
      "-- Epoch 36\n",
      "Norm: 0.10, NNZs: 2, Bias: -0.021549, T: 1650564, Avg. loss: 0.004344\n",
      "Total training time: 0.21 seconds.\n",
      "-- Epoch 37\n",
      "Norm: 0.07, NNZs: 2, Bias: -0.160581, T: 1696413, Avg. loss: 0.003335\n",
      "Total training time: 0.22 seconds.\n",
      "-- Epoch 38\n",
      "Norm: 0.05, NNZs: 2, Bias: -0.243203, T: 1742262, Avg. loss: 0.003070\n",
      "Total training time: 0.22 seconds.\n",
      "-- Epoch 39\n",
      "Norm: 0.04, NNZs: 2, Bias: -0.294093, T: 1788111, Avg. loss: 0.002917\n",
      "Total training time: 0.23 seconds.\n",
      "-- Epoch 40\n",
      "Norm: 0.04, NNZs: 2, Bias: -0.324435, T: 1833960, Avg. loss: 0.002882\n",
      "Total training time: 0.24 seconds.\n",
      "-- Epoch 41\n",
      "Norm: 0.04, NNZs: 2, Bias: -0.342859, T: 1879809, Avg. loss: 0.002876\n",
      "Total training time: 0.24 seconds.\n",
      "-- Epoch 42\n",
      "Norm: 0.04, NNZs: 2, Bias: -0.354385, T: 1925658, Avg. loss: 0.002851\n",
      "Total training time: 0.25 seconds.\n",
      "Convergence after 42 epochs took 0.25 seconds\n",
      "SGDRegressor(alpha=0.5, max_iter=100000, verbose=1)\n",
      "number of iterations completed: 42, number of weight updates: 1925659.0\n",
      "model parameters:\n",
      " w: [-0.01404813  0.03545218], \n",
      " b:[-0.35438469]\n"
     ]
    }
   ],
   "source": [
    "sgdr.fit(xtrain, ytrain)\n",
    "print(sgdr)\n",
    "print(f\"number of iterations completed: {sgdr.n_iter_}, number of weight updates: {sgdr.t_}\")\n",
    "b_norm = sgdr.intercept_\n",
    "w_norm = sgdr.coef_\n",
    "print(f\"model parameters:\\n w: {w_norm}, \\n b:{b_norm}\")"
   ]
  },
  {
   "cell_type": "code",
   "execution_count": 48,
   "id": "b75b7988",
   "metadata": {},
   "outputs": [
    {
     "data": {
      "text/plain": [
       "-5.879486506994145"
      ]
     },
     "execution_count": 48,
     "metadata": {},
     "output_type": "execute_result"
    }
   ],
   "source": [
    "sgdr.score(xtestsc,ytest)"
   ]
  },
  {
   "cell_type": "code",
   "execution_count": 49,
   "id": "6ab6270a",
   "metadata": {},
   "outputs": [
    {
     "data": {
      "image/png": "[encoded data removed]",
      "text/plain": [
       "<Figure size 432x288 with 1 Axes>"
      ]
     },
     "metadata": {
      "needs_background": "light"
     },
     "output_type": "display_data"
    }
   ],
   "source": [
    "ypred = sgdr.predict(xtestsc) \n",
    "plt.scatter(xtest[:,1], ytest, marker='x', c='r', label=\"Actual Value\"); plt.title(\"x, x**2,  features\")\n",
    "plt.scatter(xtest[:,1],ypred, label=\"Predicted Value\", s = 4); plt.xlabel(\"x\"); plt.ylabel(\"y\"); plt.legend(); plt.show()"
   ]
  },
  {
   "cell_type": "markdown",
   "id": "afb269ca",
   "metadata": {},
   "source": [
    "# Without feature scaling, gradient descent will require a lot more steps to reach the minima. In other words, gradient descent will take a lot of time to converge thus increasing the model training time."
   ]
  },
  {
   "cell_type": "code",
   "execution_count": null,
   "id": "ef25e402",
   "metadata": {},
   "outputs": [],
   "source": []
  }
 ],
 "metadata": {
  "kernelspec": {
   "display_name": "Python 3 (ipykernel)",
   "language": "python",
   "name": "python3"
  },
  "language_info": {
   "codemirror_mode": {
    "name": "ipython",
    "version": 3
   },
   "file_extension": ".py",
   "mimetype": "text/x-python",
   "name": "python",
   "nbconvert_exporter": "python",
   "pygments_lexer": "ipython3",
   "version": "3.9.7"
  }
 },
 "nbformat": 4,
 "nbformat_minor": 5
}
